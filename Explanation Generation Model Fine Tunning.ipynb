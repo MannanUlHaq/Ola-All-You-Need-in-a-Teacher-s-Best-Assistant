{
 "cells": [
  {
   "cell_type": "code",
   "execution_count": 1,
   "metadata": {
    "_cell_guid": "b1076dfc-b9ad-4769-8c92-a6c4dae69d19",
    "_uuid": "8f2839f25d086af736a60e9eeb907d3b93b6e0e5",
    "execution": {
     "iopub.execute_input": "2025-04-01T11:53:05.224148Z",
     "iopub.status.busy": "2025-04-01T11:53:05.223775Z",
     "iopub.status.idle": "2025-04-01T12:54:49.914531Z",
     "shell.execute_reply": "2025-04-01T12:54:49.913374Z",
     "shell.execute_reply.started": "2025-04-01T11:53:05.224121Z"
    }
   },
   "outputs": [
    {
     "data": {
      "application/vnd.jupyter.widget-view+json": {
       "model_id": "86630f4fb6654ac7917db2dc1f7b4fdf",
       "version_major": 2,
       "version_minor": 0
      },
      "text/plain": [
       "spiece.model:   0%|          | 0.00/792k [00:00<?, ?B/s]"
      ]
     },
     "metadata": {},
     "output_type": "display_data"
    },
    {
     "data": {
      "application/vnd.jupyter.widget-view+json": {
       "model_id": "99d7b62a6d70453c9dcc3d6ad12b2614",
       "version_major": 2,
       "version_minor": 0
      },
      "text/plain": [
       "tokenizer.json:   0%|          | 0.00/1.39M [00:00<?, ?B/s]"
      ]
     },
     "metadata": {},
     "output_type": "display_data"
    },
    {
     "data": {
      "application/vnd.jupyter.widget-view+json": {
       "model_id": "41e4adc5501c4e319de1d4b4f06b8fd1",
       "version_major": 2,
       "version_minor": 0
      },
      "text/plain": [
       "config.json:   0%|          | 0.00/1.21k [00:00<?, ?B/s]"
      ]
     },
     "metadata": {},
     "output_type": "display_data"
    },
    {
     "name": "stderr",
     "output_type": "stream",
     "text": [
      "You are using the default legacy behaviour of the <class 'transformers.models.t5.tokenization_t5.T5Tokenizer'>. This is expected, and simply means that the `legacy` (previous) behavior will be used so nothing changes for you. If you want to use the new behaviour, set `legacy=False`. This should only be set if you understand what it means, and thoroughly read the reason why this was added as explained in https://github.com/huggingface/transformers/pull/24565\n"
     ]
    },
    {
     "data": {
      "application/vnd.jupyter.widget-view+json": {
       "model_id": "3df7af9a0b9945f1a00fa8dadcdddd62",
       "version_major": 2,
       "version_minor": 0
      },
      "text/plain": [
       "Map:   0%|          | 0/2688 [00:00<?, ? examples/s]"
      ]
     },
     "metadata": {},
     "output_type": "display_data"
    },
    {
     "data": {
      "application/vnd.jupyter.widget-view+json": {
       "model_id": "51a164ed90334ced9d244ba5376b059a",
       "version_major": 2,
       "version_minor": 0
      },
      "text/plain": [
       "Map:   0%|          | 0/299 [00:00<?, ? examples/s]"
      ]
     },
     "metadata": {},
     "output_type": "display_data"
    },
    {
     "data": {
      "application/vnd.jupyter.widget-view+json": {
       "model_id": "d49e33d5fa6140eb83280f033261cd85",
       "version_major": 2,
       "version_minor": 0
      },
      "text/plain": [
       "model.safetensors:   0%|          | 0.00/2.95G [00:00<?, ?B/s]"
      ]
     },
     "metadata": {},
     "output_type": "display_data"
    },
    {
     "data": {
      "application/vnd.jupyter.widget-view+json": {
       "model_id": "29fd363ad26d40dfa07ca675cf877dc9",
       "version_major": 2,
       "version_minor": 0
      },
      "text/plain": [
       "generation_config.json:   0%|          | 0.00/147 [00:00<?, ?B/s]"
      ]
     },
     "metadata": {},
     "output_type": "display_data"
    },
    {
     "name": "stderr",
     "output_type": "stream",
     "text": [
      "/usr/local/lib/python3.10/dist-packages/transformers/training_args.py:1575: FutureWarning: `evaluation_strategy` is deprecated and will be removed in version 4.46 of 🤗 Transformers. Use `eval_strategy` instead\n",
      "  warnings.warn(\n",
      "Passing a tuple of `past_key_values` is deprecated and will be removed in Transformers v4.48.0. You should pass an instance of `EncoderDecoderCache` instead, e.g. `past_key_values=EncoderDecoderCache.from_legacy_cache(past_key_values)`.\n"
     ]
    },
    {
     "data": {
      "text/html": [
       "\n",
       "    <div>\n",
       "      \n",
       "      <progress value='5376' max='5376' style='width:300px; height:20px; vertical-align: middle;'></progress>\n",
       "      [5376/5376 1:00:53, Epoch 2/2]\n",
       "    </div>\n",
       "    <table border=\"1\" class=\"dataframe\">\n",
       "  <thead>\n",
       " <tr style=\"text-align: left;\">\n",
       "      <th>Epoch</th>\n",
       "      <th>Training Loss</th>\n",
       "      <th>Validation Loss</th>\n",
       "    </tr>\n",
       "  </thead>\n",
       "  <tbody>\n",
       "    <tr>\n",
       "      <td>1</td>\n",
       "      <td>1.520200</td>\n",
       "      <td>1.290180</td>\n",
       "    </tr>\n",
       "    <tr>\n",
       "      <td>2</td>\n",
       "      <td>1.105700</td>\n",
       "      <td>1.156026</td>\n",
       "    </tr>\n",
       "  </tbody>\n",
       "</table><p>"
      ],
      "text/plain": [
       "<IPython.core.display.HTML object>"
      ]
     },
     "metadata": {},
     "output_type": "display_data"
    },
    {
     "ename": "Error",
     "evalue": "Destination path '/kaggle/working/t5_explanation_model/checkpoint-5376' already exists",
     "output_type": "error",
     "traceback": [
      "\u001b[0;31m---------------------------------------------------------------------------\u001b[0m",
      "\u001b[0;31mError\u001b[0m                                     Traceback (most recent call last)",
      "\u001b[0;32m<ipython-input-1-ffadc7fc84e6>\u001b[0m in \u001b[0;36m<cell line: 81>\u001b[0;34m()\u001b[0m\n\u001b[1;32m     79\u001b[0m \u001b[0;31m# Save the last checkpoint only (after training)\u001b[0m\u001b[0;34m\u001b[0m\u001b[0;34m\u001b[0m\u001b[0m\n\u001b[1;32m     80\u001b[0m \u001b[0mfinal_checkpoint\u001b[0m \u001b[0;34m=\u001b[0m \u001b[0;34mf\"{model_path}/checkpoint-{trainer.state.global_step}\"\u001b[0m\u001b[0;34m\u001b[0m\u001b[0;34m\u001b[0m\u001b[0m\n\u001b[0;32m---> 81\u001b[0;31m \u001b[0mshutil\u001b[0m\u001b[0;34m.\u001b[0m\u001b[0mmove\u001b[0m\u001b[0;34m(\u001b[0m\u001b[0mfinal_checkpoint\u001b[0m\u001b[0;34m,\u001b[0m \u001b[0mmodel_path\u001b[0m\u001b[0;34m)\u001b[0m\u001b[0;34m\u001b[0m\u001b[0;34m\u001b[0m\u001b[0m\n\u001b[0m\u001b[1;32m     82\u001b[0m \u001b[0;34m\u001b[0m\u001b[0m\n\u001b[1;32m     83\u001b[0m \u001b[0;31m# Optionally, convert the model to fp16 for space efficiency (if desired)\u001b[0m\u001b[0;34m\u001b[0m\u001b[0;34m\u001b[0m\u001b[0m\n",
      "\u001b[0;32m/usr/lib/python3.10/shutil.py\u001b[0m in \u001b[0;36mmove\u001b[0;34m(src, dst, copy_function)\u001b[0m\n\u001b[1;32m    812\u001b[0m \u001b[0;34m\u001b[0m\u001b[0m\n\u001b[1;32m    813\u001b[0m         \u001b[0;32mif\u001b[0m \u001b[0mos\u001b[0m\u001b[0;34m.\u001b[0m\u001b[0mpath\u001b[0m\u001b[0;34m.\u001b[0m\u001b[0mexists\u001b[0m\u001b[0;34m(\u001b[0m\u001b[0mreal_dst\u001b[0m\u001b[0;34m)\u001b[0m\u001b[0;34m:\u001b[0m\u001b[0;34m\u001b[0m\u001b[0;34m\u001b[0m\u001b[0m\n\u001b[0;32m--> 814\u001b[0;31m             \u001b[0;32mraise\u001b[0m \u001b[0mError\u001b[0m\u001b[0;34m(\u001b[0m\u001b[0;34m\"Destination path '%s' already exists\"\u001b[0m \u001b[0;34m%\u001b[0m \u001b[0mreal_dst\u001b[0m\u001b[0;34m)\u001b[0m\u001b[0;34m\u001b[0m\u001b[0;34m\u001b[0m\u001b[0m\n\u001b[0m\u001b[1;32m    815\u001b[0m     \u001b[0;32mtry\u001b[0m\u001b[0;34m:\u001b[0m\u001b[0;34m\u001b[0m\u001b[0;34m\u001b[0m\u001b[0m\n\u001b[1;32m    816\u001b[0m         \u001b[0mos\u001b[0m\u001b[0;34m.\u001b[0m\u001b[0mrename\u001b[0m\u001b[0;34m(\u001b[0m\u001b[0msrc\u001b[0m\u001b[0;34m,\u001b[0m \u001b[0mreal_dst\u001b[0m\u001b[0;34m)\u001b[0m\u001b[0;34m\u001b[0m\u001b[0;34m\u001b[0m\u001b[0m\n",
      "\u001b[0;31mError\u001b[0m: Destination path '/kaggle/working/t5_explanation_model/checkpoint-5376' already exists"
     ]
    }
   ],
   "source": [
    "import json\n",
    "import shutil\n",
    "from datasets import Dataset, DatasetDict\n",
    "from transformers import T5Tokenizer, T5ForConditionalGeneration, Trainer, TrainingArguments\n",
    "from sklearn.model_selection import train_test_split\n",
    "import torch\n",
    "\n",
    "# Load JSON dataset\n",
    "with open(\"/kaggle/input/notes-explanation-and-summarization-dataset/Notes Explanation and Summarization Preprocessed Dataset.json\", \"r\", encoding=\"utf-8\") as f:\n",
    "    data = json.load(f)\n",
    "\n",
    "# Convert to list of input-output pairs\n",
    "formatted_data = [{\"input_text\": \"explain: \" + d[\"topic_name\"], \"target_text\": d[\"explanation\"]} for d in data]\n",
    "\n",
    "# Split into training (90%) and validation (10%)\n",
    "train_data, eval_data = train_test_split(formatted_data, test_size=0.1, random_state=42)\n",
    "\n",
    "# Convert to Hugging Face Dataset format\n",
    "dataset = DatasetDict({\n",
    "    \"train\": Dataset.from_list(train_data),\n",
    "    \"eval\": Dataset.from_list(eval_data)\n",
    "})\n",
    "\n",
    "# Load tokenizer\n",
    "tokenizer = T5Tokenizer.from_pretrained(\"t5-large\")\n",
    "\n",
    "# Tokenization function\n",
    "def tokenize_function(examples):\n",
    "    model_inputs = tokenizer(examples[\"input_text\"], padding=\"max_length\", truncation=True, max_length=512)\n",
    "    labels = tokenizer(examples[\"target_text\"], padding=\"max_length\", truncation=True, max_length=512)\n",
    "    model_inputs[\"labels\"] = labels[\"input_ids\"]\n",
    "    return model_inputs\n",
    "\n",
    "# Tokenize datasets\n",
    "tokenized_datasets = dataset.map(tokenize_function, batched=True)\n",
    "\n",
    "# Load pre-trained T5 model (using T5-large for best performance)\n",
    "model = T5ForConditionalGeneration.from_pretrained(\"t5-large\")\n",
    "\n",
    "# Define model save path\n",
    "model_path = \"/kaggle/working/t5_explanation_model\"\n",
    "\n",
    "# Training configurations\n",
    "training_args = TrainingArguments(\n",
    "    output_dir=model_path,\n",
    "    evaluation_strategy=\"epoch\",\n",
    "    save_strategy=\"epoch\",\n",
    "    per_device_train_batch_size=1,\n",
    "    per_device_eval_batch_size=1,\n",
    "    learning_rate=3e-4,\n",
    "    weight_decay=0.01,\n",
    "    num_train_epochs=2,\n",
    "    logging_dir=\"./logs\",\n",
    "    logging_steps=10,\n",
    "    report_to=\"none\",\n",
    "    push_to_hub=False,\n",
    ")\n",
    "\n",
    "# Trainer setup\n",
    "trainer = Trainer(\n",
    "    model=model,\n",
    "    args=training_args,\n",
    "    train_dataset=tokenized_datasets[\"train\"],\n",
    "    eval_dataset=tokenized_datasets[\"eval\"],\n",
    ")\n",
    "\n",
    "# Train model\n",
    "trainer.train()\n",
    "\n",
    "# Save final model - Only essential files\n",
    "model.save_pretrained(model_path, safe_serialization=True)\n",
    "tokenizer.save_pretrained(model_path)\n",
    "\n",
    "# Remove irrelevant files (optimizer, scheduler, and other unnecessary files)\n",
    "shutil.rmtree(f\"{model_path}/checkpoint-*/optimizer.pt\", ignore_errors=True)\n",
    "shutil.rmtree(f\"{model_path}/checkpoint-*/scheduler.pt\", ignore_errors=True)\n",
    "shutil.rmtree(f\"{model_path}/checkpoint-*/rng_state.pth\", ignore_errors=True)\n",
    "\n",
    "# Save the last checkpoint only (after training)\n",
    "final_checkpoint = f\"{model_path}/checkpoint-{trainer.state.global_step}\"\n",
    "shutil.move(final_checkpoint, model_path)\n",
    "\n",
    "# Optionally, convert the model to fp16 for space efficiency (if desired)\n",
    "model.half()  # Convert model to fp16\n",
    "\n",
    "# Save the reduced model\n",
    "model.save_pretrained(model_path, safe_serialization=True)"
   ]
  },
  {
   "cell_type": "code",
   "execution_count": 33,
   "metadata": {
    "execution": {
     "iopub.execute_input": "2025-04-01T13:42:12.583047Z",
     "iopub.status.busy": "2025-04-01T13:42:12.582727Z",
     "iopub.status.idle": "2025-04-01T13:43:21.088098Z",
     "shell.execute_reply": "2025-04-01T13:43:21.086820Z",
     "shell.execute_reply.started": "2025-04-01T13:42:12.583024Z"
    }
   },
   "outputs": [
    {
     "name": "stdout",
     "output_type": "stream",
     "text": [
      "  adding: kaggle/working/t5_explanation_model/ (stored 0%)\n",
      "  adding: kaggle/working/t5_explanation_model/config.json (deflated 62%)\n",
      "  adding: kaggle/working/t5_explanation_model/tokenizer_config.json (deflated 94%)\n",
      "  adding: kaggle/working/t5_explanation_model/model.safetensors (deflated 8%)\n",
      "  adding: kaggle/working/t5_explanation_model/spiece.model (deflated 48%)\n",
      "  adding: kaggle/working/t5_explanation_model/generation_config.json (deflated 29%)\n",
      "  adding: kaggle/working/t5_explanation_model/special_tokens_map.json (deflated 85%)\n",
      "Model saved and zipped for download!\n"
     ]
    }
   ],
   "source": [
    "# Convert to ZIP for download\n",
    "!zip -r model.zip /kaggle/working/t5_explanation_model\n",
    "print(\"Model saved and zipped for download!\")"
   ]
  },
  {
   "cell_type": "code",
   "execution_count": 34,
   "metadata": {
    "execution": {
     "iopub.execute_input": "2025-04-01T13:44:24.400508Z",
     "iopub.status.busy": "2025-04-01T13:44:24.400172Z",
     "iopub.status.idle": "2025-04-01T13:44:24.406468Z",
     "shell.execute_reply": "2025-04-01T13:44:24.405634Z",
     "shell.execute_reply.started": "2025-04-01T13:44:24.400484Z"
    }
   },
   "outputs": [
    {
     "data": {
      "text/html": [
       "<a href='model.zip' target='_blank'>model.zip</a><br>"
      ],
      "text/plain": [
       "/kaggle/working/model.zip"
      ]
     },
     "execution_count": 34,
     "metadata": {},
     "output_type": "execute_result"
    }
   ],
   "source": [
    "from IPython.display import FileLink\n",
    "FileLink(r\"model.zip\")"
   ]
  },
  {
   "cell_type": "code",
   "execution_count": 12,
   "metadata": {},
   "outputs": [],
   "source": [
    "import json\n",
    "from nltk.translate.bleu_score import sentence_bleu, SmoothingFunction\n",
    "from rouge_score import rouge_scorer"
   ]
  },
  {
   "cell_type": "code",
   "execution_count": 14,
   "metadata": {},
   "outputs": [
    {
     "name": "stdout",
     "output_type": "stream",
     "text": [
      "--- Example 1 ---\n",
      "Input: explain: What Operating Systems Do\n",
      "Generated:\n",
      "What Operating Systems Do: A Comprehensive Explanation An operating system (OS) is a software that manages computer hardware resources and provides common services to computer programs. It acts as an intermediary between the user and the computer hardware, controlling the allocation of system resources such as memory, CPU time, and input/output (I/O) devices. Key Principles: Resource Management: The OS manages the creation, execution, and termination of processes (programs) running on the computer. It allocates and deallocates system resources as needed, ensuring that each process has a unique identity and does not interfere with other processes. Process Management: When a process is created, it creates, runs, and terminates its execution. It ensures that multiple processes can run concurrently without interfering with each other's execution. Interrupt Handling: As the process is executed, the OS handles interrupts generated by hardware devices, such as keyboard presses or disk completion, to ensure timely response to events. Illustrative Example: Consider a scenario where you are using a computer to edit a document. Here's what happens when you open a word processor and press \"Enter\" to edit the document. The OS performs the following tasks: Process Creation: Creates a new process for the word processor, allocating a specific amount of memory and CPU time. Memory Management: Manages the allocation and deallocation of memory for this process. File System Management: Stores files and directories on the hard drive, allowing you to read and write data to your document. Security: Ensuring that only authorized users can access and modify sensitive information. Input/Output Operations: Controls the flow of data between the keyboard and mouse, preventing unauthorized access and data corruption.\n",
      "\n",
      "Reference:\n",
      "What Operating Systems Do: A Comprehensive Explanation  An Operating System (OS) is a crucial software component that acts as an intermediary between computer hardware and user-level applications. Its primary function is to manage the resources and interactions between the hardware and software components of a computer system. In simpler terms, an OS does three main things:  Process Management: The OS manages the creation, execution, and termination of processes (programs) running on the computer. It allocates system resources, such as memory, CPU time, and I/O devices, to these processes. Memory Management: The OS manages the allocation and deallocation of memory (RAM) for running programs. It ensures that each process has a dedicated memory space, preventing conflicts and ensuring that each program runs smoothly. Input/Output (I/O) Management: The OS manages the interactions between hardware devices, such as keyboards, printers, and disk drives, and the programs that use them. It enables data transfer between devices and ensures that data is stored and retrieved correctly.  Key Principles:  Abstraction: The OS provides a layer of abstraction between the hardware and user-level applications, allowing programs to interact with the hardware without knowing the underlying details. Resource Allocation: The OS allocates resources efficiently, ensuring that each process has the necessary resources to run effectively. Resource Protection: The OS protects system resources from being accessed or modified by unauthorized programs. Fault Tolerance: The OS provides mechanisms to recover from errors and failures, ensuring that the system remains stable and functional.  Illustrative Example:  Suppose you're using a computer with a file management application, like Microsoft Explorer. When you open a folder, the OS:  Creates a process: The OS creates a new process (program) to manage the file management application. Allocates memory: The OS allocates a portion of memory (RAM) for the process to use. Manages I/O: The OS manages the interaction between the file management application and the disk drive, allowing you to view and access files. Provides abstraction: The OS abstracts away the underlying details of the disk drive and file system, allowing the file management application to interact with the disk drive without knowing the specifics.\n",
      "\n",
      "BLEU: 0.1830\n",
      "ROUGE-1 F1: 0.5990\n",
      "ROUGE-2 F1: 0.2925\n",
      "ROUGE-L F1: 0.3455\n",
      "\n",
      "--- Example 2 ---\n",
      "Input: explain: Computer-System Organization\n",
      "Generated:\n",
      "Computer-System Organization: A Comprehensive Explanation Computer-system organization refers to the way a computer system is structured and designed to perform its functions. It involves the arrangement of hardware and software components to achieve efficient, reliable, and scalable performance. In this explanation, we'll delve into the key principles and insights of computer-system architecture, along with an illustrative example. Key Principles: Modularity: A well-organized computer system can be divided into smaller, independent modules or components that can be developed, tested, and maintained separately. Hierarchical Structure: The system is organized in a hierarchical manner, with each level building upon the previous one. This allows for flexibility, scalability, and maintainability. Abstraction: Each layer abstracts away non-essential details, allowing for easier maintenance, modification, and replacement of individual components without affecting the entire system. Decoupling: Components are designed to operate independently, making it easier to modify or replace individual components as needed. Scalability: The structure of the system should be designed to scale horizontally (add more components) or vertically (increase capacity) to accommodate growth and changes in requirements. Fault Tolerance: When components fail or become unavailable, the system can continue to function, ensuring minimal downtime and data loss. Security: System components must be secure to prevent unauthorized access, data breaches, and malicious attacks. Illustrated Example: Consider a simple computer system consisting of a central processing unit (CPU), memory, storage, and input/output devices (e.g., keyboard, mouse, monitor). The CPU is a single, self-contained unit that manages the CPU, memory, and I/O devices. The CPU is responsible for processing instructions and storing data. The memory is used to store and retrieve data, while the hard drive is used for storing and retrieving data.\n",
      "\n",
      "Reference:\n",
      "Computer-System Organization  Computer-System Organization refers to the way in which a computer system is structured and divided into various components to achieve efficient and effective operation. It involves the design and organization of hardware and software components to enable the system to perform tasks, store data, and communicate with users. The organization of a computer system is crucial to ensure that it can efficiently process information, manage resources, and provide reliable services.  Key Principles:  Modularity: A computer system is divided into smaller, independent modules that perform specific functions. Each module is designed to be self-contained, with its own inputs, outputs, and internal operations. Hierarchy: The modules are organized in a hierarchical structure, with higher-level modules controlling and coordinating the activities of lower-level modules. Communication: Modules communicate with each other through standardized interfaces and protocols to exchange data and instructions. Abstraction: Each module is designed to abstract away from the internal details of other modules, allowing for greater flexibility and modularity.  Illustrative Example:  Consider a banking system that consists of several components:  Hardware: The system includes a central processing unit (CPU), memory, and input/output devices (e.g., keyboard, mouse, and monitor). Operating System: The operating system (OS) manages the hardware resources and provides a platform for running applications. Application Software: The banking application software handles transactions, accounts, and user interactions. Database: The database stores customer information, account balances, and transaction records.  In this example, the system is organized in a hierarchical structure, with the OS controlling the hardware resources and providing a platform for the application software. The application software communicates with the database to retrieve and update data, while the database stores and retrieves data as requested. Each component is designed to abstract away from the internal details of other components, allowing for greater flexibility and modularity.\n",
      "\n",
      "BLEU: 0.1573\n",
      "ROUGE-1 F1: 0.5918\n",
      "ROUGE-2 F1: 0.2628\n",
      "ROUGE-L F1: 0.3469\n",
      "\n",
      "--- Example 3 ---\n",
      "Input: explain: Computer-System Architecture\n",
      "Generated:\n",
      "Computer-System Architecture: A Comprehensive Explanation Computer-system architecture refers to the design and organization of a computer system's components, including hardware, software, and communication networks. It involves the arrangement of these components to achieve efficient, reliable, and scalable performance. Key Principles: Modularity: A well-designed computer system is divided into smaller, independent modules or components that can be developed, tested, and maintained separately. This modularity allows for easier maintenance, modification, and replacement of individual components without affecting the entire system. Abstraction: The system abstracts away non-essential details, allowing for greater flexibility and scalability. Decoupling: Components are designed to operate independently, making it easier to modify or replace individual components as needed. Scalability: Systems should be designed to scale horizontally (add more components) or vertically (increase capacity) to meet changing requirements. Illustrative Example: Consider a modern smartphone. The phone's architecture consists of three main components: Hardware: The CPU, memory, storage, and input/output devices. Software: The camera's operating system, graphics card, and operating system. Each component performs a specific function, such as reading and writing data to storage devices like hard drives, solid-state drives, and network interfaces. In this example, each component interacts with the other components to provide a seamless user experience. For instance, when a user clicks on a button, the phone sends an HTTP request to the web server, which retrieves the requested data and displays it to the user. The web browser receives the request and responds accordingly.\n",
      "\n",
      "Reference:\n",
      "Computer-System Architecture  Computer-System Architecture refers to the design and organization of the components that make up a computer system, including hardware, software, and communication networks. It involves the arrangement of these components to achieve efficient, reliable, and scalable performance. The goal of computer-system architecture is to create a system that can effectively execute a set of tasks, processes, or applications while minimizing resource utilization, errors, and costs.  Key Principles:  Modularity: Breaking down the system into smaller, independent modules or components that can be designed, developed, and tested independently. Scalability: Designing the system to accommodate increasing demands, such as increased processing power, memory, or network bandwidth, without compromising performance. Flexibility: Ensuring the system can adapt to changing requirements, such as new applications, protocols, or technologies. Reliability: Designing the system to minimize errors, failures, and downtime, ensuring high availability and fault tolerance. Performance: Optimizing the system to achieve efficient processing, memory utilization, and communication between components. Security: Implementing measures to prevent unauthorized access, data breaches, and malicious attacks.  Illustrative Example:  Consider a modern smartphone, which is a complex computer system consisting of hardware (processor, memory, storage), software (operating system, apps), and communication networks (cellular, Wi-Fi). The architecture of the smartphone is designed to ensure:   Modularity: The phone's hardware and software components are designed to work independently, allowing for easier updates and maintenance.  Scalability: The phone's architecture is designed to accommodate increasing demands, such as more apps and data storage, without compromising performance.  Flexibility: The phone's operating system and apps are designed to adapt to changing requirements, such as new features and protocols.  Reliability: The phone's architecture includes features like battery backup, error correction, and redundancy to minimize downtime and errors.  Performance: The phone's architecture optimizes processing, memory utilization, and communication between components to ensure efficient performance.  Security: The phone's architecture includes encryption, secure boot mechanisms, and regular software updates to prevent unauthorized access and data breaches.\n",
      "\n",
      "BLEU: 0.1527\n",
      "ROUGE-1 F1: 0.5114\n",
      "ROUGE-2 F1: 0.2390\n",
      "ROUGE-L F1: 0.3222\n",
      "\n",
      "--- Example 4 ---\n",
      "Input: explain: Operating-System Operations\n",
      "Generated:\n",
      "Operating-System Operations: A Comprehensive Explanation An operating system (OS) is a crucial software component that manages computer hardware resources and provides common services to computer programs. Operating-system operations refer to the various tasks performed by the OS to manage these resources, such as memory, CPU time, and input/output (I/O) devices. Key Principles: Process Management: The OS manages the creation, execution, and termination of processes (programs) running on the computer. It allocates and deallocates resources as needed, ensuring efficient use of system resources. Memory Management: When a program requests memory or I/O operations, the OS creates a new process and allocates memory for it. This process involves allocating and deallocating memory for the program. File System Management: Assigns and dealslocates files and directories to programs. This includes creating, reading, writing, and deleting files. Security: Ensuring that data is protected from unauthorized access, tampering, and other security threats. Illustrative Example: Suppose you're using a computer to edit a document. Here's how the OS performs these operations: Process Creation: You create a process for the word processing application, allocating memory and CPU time as needed. Memory Allocation: You assign a unique identifier (e.g., \"example.txt\") to the Word Processing application, allowing it to read and write data to the document. Process Termination: When you save the document, your OS terminates the process, releasing its memory space and freeing up disk space for other applications. Interrupt Handling: Your OS handles interrupts generated by the keyboard and mouse, enabling you to interact with the document in a more efficient and user-friendly manner.\n",
      "\n",
      "Reference:\n",
      "Operating-System Operations: A Comprehensive Explanation  An operating system (OS) is a software that manages the interaction between a computer's hardware and software resources, providing a platform for running applications and executing tasks. Operating-system operations refer to the various processes and mechanisms by which an OS manages these interactions, ensuring efficient and secure use of system resources.  Key Principles:  Process Management: The OS manages the creation, execution, and termination of processes, which are programs in execution. This includes process scheduling, context switching, and resource allocation. Memory Management: The OS manages the allocation and deallocation of memory for running processes, ensuring efficient use of system memory. File System Management: The OS provides a file system that allows applications to read and write data to storage devices, such as hard drives or solid-state drives. Input/Output (I/O) Management: The OS manages input/output operations, such as keyboard and mouse input, and printing and network communication. Security: The OS provides mechanisms for controlling access to system resources, ensuring that only authorized processes can access sensitive information. Interrupt Handling: The OS handles interrupts generated by hardware devices, such as keyboard presses or disk completion, to ensure timely response to system events. Error Handling: The OS provides mechanisms for detecting and handling errors, such as memory corruption or disk errors.  Illustrative Example:  Suppose you are using a word processor to edit a document. Here's how the OS would handle this process:  Process Creation: The word processor process is created when you launch the application. Memory Allocation: The OS allocates a block of memory for the word processor to use. File System Access: The word processor requests access to the document file stored on the hard drive. The OS manages the file system to read the file contents into memory. I/O Operations: The word processor requests input from the keyboard and mouse, and the OS handles these I/O operations. Interrupt Handling: If the disk is ready to provide the document data, the OS handles the interrupt generated by the disk and transfers the data to the word processor. Error Handling: If an error occurs, such as a disk error or memory corruption, the OS detects and handles the error, allowing the word processor to recover and continue processing.\n",
      "\n",
      "BLEU: 0.1697\n",
      "ROUGE-1 F1: 0.6140\n",
      "ROUGE-2 F1: 0.3048\n",
      "ROUGE-L F1: 0.3721\n",
      "\n",
      "--- Example 5 ---\n",
      "Input: explain: Resource Management\n",
      "Generated:\n",
      "Resource Management in Computing: A Comprehensive Explanation Resource management is a fundamental concept in computing that refers to the process of planning, organizing, and controlling the allocation and utilization of system resources, such as CPU time, memory, and I/O devices, to achieve optimal performance, efficiency, and resource utilization. In this explanation, we'll delve into the key principles and insights of resource management, along with an illustrative example. Key Principles of Resource Management: Resource Allocation: Resources are allocated to tasks or processes based on their availability, requirements, and constraints. Resource Utilization: Resources must be utilized efficiently and effectively to achieve the desired outcome. Resource Optimization: Resources should be optimized to minimize waste, reduce costs, and maximize output. Resource Reclamation: When resources are no longer needed, they must be redeployed or replaced to maintain system performance. Resource Monitoring: Resource monitoring is essential to identify potential bottlenecks and optimize resource allocation. This involves monitoring resource usage, identifying areas for improvement, and adjusting resource allocation accordingly. Resource Protection: Resource protection ensures that resources are protected from unauthorized access, data breaches, and other malicious activities. Scalability: Resource management can be scaled up or down as needed to accommodate changing demands and workloads. Effective resource management requires a deep understanding of the system's capabilities, constraints, and trade-offs between competing priorities. Flexibility: Responsive resource management allows for flexibility in resource allocation and deallocation, allowing for easy addition or removal of resources without compromising performance.\n",
      "\n",
      "Reference:\n",
      "Resource Management is the process of planning, organizing, and controlling the acquisition, allocation, and utilization of resources to achieve specific goals and objectives. It involves the effective management of scarce resources, such as time, money, materials, equipment, and personnel, to maximize efficiency, productivity, and overall performance.  Key Principles of Resource Management:  Resource Availability: Identifying the availability of resources, including their quantity, quality, and accessibility. Resource Allocation: Allocating resources to specific tasks, projects, or activities to ensure effective utilization. Resource Utilization: Using resources in a way that maximizes their effectiveness and minimizes waste. Resource Optimization: Continuously monitoring and adjusting resource allocation to optimize performance and efficiency. Resource Flexibility: Being able to adapt to changing circumstances, such as changes in demand or supply, by adjusting resource allocation.  Illustrative Example:  Imagine a software development company, \"TechCorp,\" is working on a new project with a tight deadline. The project requires a team of skilled developers, a specific set of software tools, and a dedicated server. To manage resources effectively, TechCorp's project manager:   Identifies the available resources, including the number of developers, their skills, and the availability of the necessary software tools and server.  Allocates the resources to specific tasks, such as assigning developers to specific modules of the project.  Utilizes the resources by ensuring that each developer is working on a task that aligns with their skills and expertise.  Continuously monitors the project's progress and adjusts resource allocation as needed to stay on track with the deadline.  Adapts to changes in the project scope or timeline by adjusting resource allocation, such as adding or removing developers, or adjusting the tasks assigned to each developer.  By following these principles, TechCorp is able to manage its resources effectively, ensure the successful completion of the project on time, and maintain a high level of quality.\n",
      "\n",
      "BLEU: 0.0833\n",
      "ROUGE-1 F1: 0.4880\n",
      "ROUGE-2 F1: 0.1558\n",
      "ROUGE-L F1: 0.2625\n",
      "\n",
      "==== AVERAGE METRICS ====\n",
      "Average BLEU: 0.1492\n",
      "Average ROUGE-1 F1: 0.5608\n",
      "Average ROUGE-2 F1: 0.2510\n",
      "Average ROUGE-L F1: 0.3298\n"
     ]
    }
   ],
   "source": [
    "# Load JSON dataset (first 5 samples only)\n",
    "with open(\"Notes Explanation and Summarization Preprocessed Dataset.json\", \"r\", encoding=\"utf-8\") as f:\n",
    "    data = json.load(f)[:5]\n",
    "\n",
    "# Load fine-tuned explanation generation model\n",
    "model_path = \"t5_explanation_model\"\n",
    "tokenizer = T5Tokenizer.from_pretrained(model_path)\n",
    "model = T5ForConditionalGeneration.from_pretrained(model_path)\n",
    "\n",
    "# Initialize metrics\n",
    "smoother = SmoothingFunction().method4\n",
    "rouge = rouge_scorer.RougeScorer(['rouge1', 'rouge2', 'rougeL'], use_stemmer=True)\n",
    "\n",
    "bleu_scores = []\n",
    "rouge1_scores = []\n",
    "rouge2_scores = []\n",
    "rougeL_scores = []\n",
    "\n",
    "# Evaluation loop\n",
    "for i, sample in enumerate(data):\n",
    "    input_text = \"explain: \" + sample[\"topic_name\"]\n",
    "    reference = sample[\"explanation\"]\n",
    "\n",
    "    input_ids = tokenizer.encode(input_text, return_tensors=\"pt\", truncation=True, max_length=512)\n",
    "    output_ids = model.generate(\n",
    "        input_ids=input_ids,\n",
    "        max_length=512,\n",
    "        num_beams=8,\n",
    "        no_repeat_ngram_size=3,\n",
    "        repetition_penalty=2.0\n",
    "    )\n",
    "    generated = tokenizer.decode(output_ids[0], skip_special_tokens=True)\n",
    "\n",
    "    # Compute BLEU\n",
    "    bleu = sentence_bleu([reference.split()], generated.split(), smoothing_function=smoother)\n",
    "    bleu_scores.append(bleu)\n",
    "\n",
    "    # Compute ROUGE\n",
    "    rouge_scores = rouge.score(reference, generated)\n",
    "    rouge1_scores.append(rouge_scores['rouge1'].fmeasure)\n",
    "    rouge2_scores.append(rouge_scores['rouge2'].fmeasure)\n",
    "    rougeL_scores.append(rouge_scores['rougeL'].fmeasure)\n",
    "\n",
    "    # Print example output\n",
    "    print(f\"--- Example {i+1} ---\")\n",
    "    print(f\"Input: {input_text}\")\n",
    "    print(f\"Generated:\\n{generated}\\n\")\n",
    "    print(f\"Reference:\\n{reference}\\n\")\n",
    "    print(f\"BLEU: {bleu:.4f}\")\n",
    "    print(f\"ROUGE-1 F1: {rouge_scores['rouge1'].fmeasure:.4f}\")\n",
    "    print(f\"ROUGE-2 F1: {rouge_scores['rouge2'].fmeasure:.4f}\")\n",
    "    print(f\"ROUGE-L F1: {rouge_scores['rougeL'].fmeasure:.4f}\")\n",
    "    print()\n",
    "\n",
    "# Average scores\n",
    "print(\"==== AVERAGE METRICS ====\")\n",
    "print(f\"Average BLEU: {sum(bleu_scores)/len(bleu_scores):.4f}\")\n",
    "print(f\"Average ROUGE-1 F1: {sum(rouge1_scores)/len(rouge1_scores):.4f}\")\n",
    "print(f\"Average ROUGE-2 F1: {sum(rouge2_scores)/len(rouge2_scores):.4f}\")\n",
    "print(f\"Average ROUGE-L F1: {sum(rougeL_scores)/len(rougeL_scores):.4f}\")"
   ]
  },
  {
   "cell_type": "markdown",
   "metadata": {},
   "source": [
    "* BLEU\t0.1492\tLow lexical overlap — your generated explanations use different words/structure than the references.\n",
    "* ROUGE-1 F1\t0.5608\tModerate keyword overlap — your model captures some key terms and content.\n",
    "* ROUGE-2 F1\t0.2510\tLow phrase overlap — model likely not matching multi-word expressions well.\n",
    "* ROUGE-L F1\t0.3298\tLow structure similarity — flow/order of content differs from reference."
   ]
  }
 ],
 "metadata": {
  "kaggle": {
   "accelerator": "gpu",
   "dataSources": [
    {
     "datasetId": 7012298,
     "sourceId": 11227086,
     "sourceType": "datasetVersion"
    }
   ],
   "dockerImageVersionId": 30919,
   "isGpuEnabled": true,
   "isInternetEnabled": true,
   "language": "python",
   "sourceType": "notebook"
  },
  "kernelspec": {
   "display_name": "Python 3 (ipykernel)",
   "language": "python",
   "name": "python3"
  },
  "language_info": {
   "codemirror_mode": {
    "name": "ipython",
    "version": 3
   },
   "file_extension": ".py",
   "mimetype": "text/x-python",
   "name": "python",
   "nbconvert_exporter": "python",
   "pygments_lexer": "ipython3",
   "version": "3.12.3"
  }
 },
 "nbformat": 4,
 "nbformat_minor": 4
}
